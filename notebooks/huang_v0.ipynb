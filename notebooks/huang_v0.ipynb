{
 "cells": [
  {
   "cell_type": "markdown",
   "metadata": {},
   "source": [
    "# Entity Linking\n",
    "The tutorial documents how one may use the **Entity Linking** tool in spaCy to resolve the ambiguous mentioning via using unique identifers in a knowledge base (KB). The following tools may be needed. "
   ]
  },
  {
   "cell_type": "code",
   "execution_count": null,
   "metadata": {},
   "outputs": [],
   "source": [
    "# !python3 -m spacy download zh_core_web_md"
   ]
  },
  {
   "cell_type": "code",
   "execution_count": 2,
   "metadata": {},
   "outputs": [
    {
     "name": "stdout",
     "output_type": "stream",
     "text": [
      "Named Entity '台籍' with label 'GPE'\n",
      "Named Entity '国大' with label 'ORG'\n",
      "Named Entity '黄国书' with label 'PERSON'\n"
     ]
    }
   ],
   "source": [
    "from IPython.display import Image as IPythonImage\n",
    "import spacy\n",
    "import chinese_converter\n",
    "\n",
    "\n",
    "nlp = spacy.load(\"zh_core_web_md\")\n",
    "text = chinese_converter.to_simplified(\"呈復臺籍國大代表黃國書陰謀叛國一案尚無事實證明在此善後時期擬不予深究\")\n",
    "doc = nlp(text)\n",
    "for ent in doc.ents:\n",
    "    print(f\"Named Entity '{ent.text}' with label '{ent.label_}'\")"
   ]
  },
  {
   "cell_type": "code",
   "execution_count": 3,
   "metadata": {},
   "outputs": [
    {
     "data": {
      "text/html": [
       "<span class=\"tex2jax_ignore\"><div class=\"entities\" style=\"line-height: 2.5; direction: ltr\">\n",
       "<mark class=\"entity\" style=\"background: #bfe1d9; padding: 0.45em 0.6em; margin: 0 0.25em; line-height: 1; border-radius: 0.35em;\">\n",
       "    1947年\n",
       "    <span style=\"font-size: 0.8em; font-weight: bold; line-height: 1; border-radius: 0.35em; vertical-align: middle; margin-left: 0.5rem\">DATE</span>\n",
       "</mark>\n",
       "\n",
       "<mark class=\"entity\" style=\"background: #aa9cfc; padding: 0.45em 0.6em; margin: 0 0.25em; line-height: 1; border-radius: 0.35em;\">\n",
       "    黄国书\n",
       "    <span style=\"font-size: 0.8em; font-weight: bold; line-height: 1; border-radius: 0.35em; vertical-align: middle; margin-left: 0.5rem\">PERSON</span>\n",
       "</mark>\n",
       "当选立法委员</div></span>"
      ],
      "text/plain": [
       "<IPython.core.display.HTML object>"
      ]
     },
     "metadata": {},
     "output_type": "display_data"
    },
    {
     "data": {
      "text/html": [
       "<span class=\"tex2jax_ignore\"><svg xmlns=\"http://www.w3.org/2000/svg\" xmlns:xlink=\"http://www.w3.org/1999/xlink\" xml:lang=\"zh\" id=\"068c4bca6cb242b2902894a0864a8d8e-0\" class=\"displacy\" width=\"925\" height=\"399.5\" direction=\"ltr\" style=\"max-width: none; height: 399.5px; color: #000000; background: #ffffff; font-family: Arial; direction: ltr\">\n",
       "<text class=\"displacy-token\" fill=\"currentColor\" text-anchor=\"middle\" y=\"309.5\">\n",
       "    <tspan class=\"displacy-word\" fill=\"currentColor\" x=\"50\">1947年</tspan>\n",
       "    <tspan class=\"displacy-tag\" dy=\"2em\" fill=\"currentColor\" x=\"50\">NOUN</tspan>\n",
       "</text>\n",
       "\n",
       "<text class=\"displacy-token\" fill=\"currentColor\" text-anchor=\"middle\" y=\"309.5\">\n",
       "    <tspan class=\"displacy-word\" fill=\"currentColor\" x=\"225\">黄国书</tspan>\n",
       "    <tspan class=\"displacy-tag\" dy=\"2em\" fill=\"currentColor\" x=\"225\">PROPN</tspan>\n",
       "</text>\n",
       "\n",
       "<text class=\"displacy-token\" fill=\"currentColor\" text-anchor=\"middle\" y=\"309.5\">\n",
       "    <tspan class=\"displacy-word\" fill=\"currentColor\" x=\"400\">当选</tspan>\n",
       "    <tspan class=\"displacy-tag\" dy=\"2em\" fill=\"currentColor\" x=\"400\">VERB</tspan>\n",
       "</text>\n",
       "\n",
       "<text class=\"displacy-token\" fill=\"currentColor\" text-anchor=\"middle\" y=\"309.5\">\n",
       "    <tspan class=\"displacy-word\" fill=\"currentColor\" x=\"575\">立法</tspan>\n",
       "    <tspan class=\"displacy-tag\" dy=\"2em\" fill=\"currentColor\" x=\"575\">NOUN</tspan>\n",
       "</text>\n",
       "\n",
       "<text class=\"displacy-token\" fill=\"currentColor\" text-anchor=\"middle\" y=\"309.5\">\n",
       "    <tspan class=\"displacy-word\" fill=\"currentColor\" x=\"750\">委员</tspan>\n",
       "    <tspan class=\"displacy-tag\" dy=\"2em\" fill=\"currentColor\" x=\"750\">NOUN</tspan>\n",
       "</text>\n",
       "\n",
       "<g class=\"displacy-arrow\">\n",
       "    <path class=\"displacy-arc\" id=\"arrow-068c4bca6cb242b2902894a0864a8d8e-0-0\" stroke-width=\"2px\" d=\"M70,264.5 C70,2.0 750.0,2.0 750.0,264.5\" fill=\"none\" stroke=\"currentColor\"/>\n",
       "    <text dy=\"1.25em\" style=\"font-size: 0.8em; letter-spacing: 1px\">\n",
       "        <textPath xlink:href=\"#arrow-068c4bca6cb242b2902894a0864a8d8e-0-0\" class=\"displacy-label\" startOffset=\"50%\" side=\"left\" fill=\"currentColor\" text-anchor=\"middle\">compound:nn</textPath>\n",
       "    </text>\n",
       "    <path class=\"displacy-arrowhead\" d=\"M70,266.5 L62,254.5 78,254.5\" fill=\"currentColor\"/>\n",
       "</g>\n",
       "\n",
       "<g class=\"displacy-arrow\">\n",
       "    <path class=\"displacy-arc\" id=\"arrow-068c4bca6cb242b2902894a0864a8d8e-0-1\" stroke-width=\"2px\" d=\"M245,264.5 C245,177.0 390.0,177.0 390.0,264.5\" fill=\"none\" stroke=\"currentColor\"/>\n",
       "    <text dy=\"1.25em\" style=\"font-size: 0.8em; letter-spacing: 1px\">\n",
       "        <textPath xlink:href=\"#arrow-068c4bca6cb242b2902894a0864a8d8e-0-1\" class=\"displacy-label\" startOffset=\"50%\" side=\"left\" fill=\"currentColor\" text-anchor=\"middle\">nsubj</textPath>\n",
       "    </text>\n",
       "    <path class=\"displacy-arrowhead\" d=\"M245,266.5 L237,254.5 253,254.5\" fill=\"currentColor\"/>\n",
       "</g>\n",
       "\n",
       "<g class=\"displacy-arrow\">\n",
       "    <path class=\"displacy-arc\" id=\"arrow-068c4bca6cb242b2902894a0864a8d8e-0-2\" stroke-width=\"2px\" d=\"M420,264.5 C420,89.5 745.0,89.5 745.0,264.5\" fill=\"none\" stroke=\"currentColor\"/>\n",
       "    <text dy=\"1.25em\" style=\"font-size: 0.8em; letter-spacing: 1px\">\n",
       "        <textPath xlink:href=\"#arrow-068c4bca6cb242b2902894a0864a8d8e-0-2\" class=\"displacy-label\" startOffset=\"50%\" side=\"left\" fill=\"currentColor\" text-anchor=\"middle\">acl</textPath>\n",
       "    </text>\n",
       "    <path class=\"displacy-arrowhead\" d=\"M420,266.5 L412,254.5 428,254.5\" fill=\"currentColor\"/>\n",
       "</g>\n",
       "\n",
       "<g class=\"displacy-arrow\">\n",
       "    <path class=\"displacy-arc\" id=\"arrow-068c4bca6cb242b2902894a0864a8d8e-0-3\" stroke-width=\"2px\" d=\"M595,264.5 C595,177.0 740.0,177.0 740.0,264.5\" fill=\"none\" stroke=\"currentColor\"/>\n",
       "    <text dy=\"1.25em\" style=\"font-size: 0.8em; letter-spacing: 1px\">\n",
       "        <textPath xlink:href=\"#arrow-068c4bca6cb242b2902894a0864a8d8e-0-3\" class=\"displacy-label\" startOffset=\"50%\" side=\"left\" fill=\"currentColor\" text-anchor=\"middle\">compound:nn</textPath>\n",
       "    </text>\n",
       "    <path class=\"displacy-arrowhead\" d=\"M595,266.5 L587,254.5 603,254.5\" fill=\"currentColor\"/>\n",
       "</g>\n",
       "</svg></span>"
      ],
      "text/plain": [
       "<IPython.core.display.HTML object>"
      ]
     },
     "metadata": {},
     "output_type": "display_data"
    }
   ],
   "source": [
    "import spacy\n",
    "import chinese_converter\n",
    "from spacy import displacy\n",
    "\n",
    "\n",
    "nlp = spacy.load(\"zh_core_web_md\")\n",
    "text = chinese_converter.to_simplified(\"1947年黃國書當選立法委員\")\n",
    "doc = nlp(text)\n",
    "displacy.render(doc, style='ent')\n",
    "displacy.render(doc, style=\"dep\")"
   ]
  },
  {
   "cell_type": "code",
   "execution_count": 4,
   "metadata": {},
   "outputs": [
    {
     "data": {
      "image/png": "[encoded data removed]",
      "text/plain": [
       "<IPython.core.display.Image object>"
      ]
     },
     "execution_count": 4,
     "metadata": {
      "image/png": {
       "width": 500
      }
     },
     "output_type": "execute_result"
    }
   ],
   "source": [
    "IPythonImage(filename=\"imgs/ent.png\", width=500)"
   ]
  },
  {
   "cell_type": "code",
   "execution_count": 5,
   "metadata": {},
   "outputs": [
    {
     "data": {
      "image/png": "[encoded data removed]",
      "text/plain": [
       "<IPython.core.display.Image object>"
      ]
     },
     "execution_count": 5,
     "metadata": {
      "image/png": {
       "width": 500
      }
     },
     "output_type": "execute_result"
    }
   ],
   "source": [
    "IPythonImage(filename=\"imgs/dep.png\", width=500)"
   ]
  },
  {
   "cell_type": "markdown",
   "metadata": {},
   "source": [
    "# Creating the Knowledge Base \n",
    "\n",
    "The first step to perform Entity Linking, is to set up a Knowledge Base (KB) that contains the unique identifiers of the entities we are interested in. This tutorial will create a 2-entry KB. The KB is established based on the information in [wikidata](https://www.wikidata.org/wiki/) and saves to a csv file. "
   ]
  },
  {
   "cell_type": "code",
   "execution_count": 6,
   "metadata": {},
   "outputs": [],
   "source": [
    "import csv\n",
    "from pathlib import Path\n",
    "\n",
    "\n",
    "def load_entities(file):\n",
    "    entities_loc = Path.cwd().parent / \"assets\" / file\n",
    "\n",
    "    names = dict()\n",
    "    names_aliases = dict()\n",
    "    descriptions = dict()\n",
    "    with entities_loc.open(\"r\", encoding=\"utf8\") as csvfile:\n",
    "        csvreader = csv.reader(csvfile, delimiter=\",\")\n",
    "        for row in csvreader:\n",
    "            qid = row[0]\n",
    "            name = row[1]\n",
    "            desc = row[2]\n",
    "            name_alias = row[4]\n",
    "            \n",
    "            names[qid] = name\n",
    "            descriptions[qid] = desc\n",
    "            names_aliases[qid] = name_alias\n",
    "    return names, descriptions, names_aliases"
   ]
  },
  {
   "cell_type": "code",
   "execution_count": 7,
   "metadata": {},
   "outputs": [
    {
     "name": "stdout",
     "output_type": "stream",
     "text": [
      "Q111361019, name=黃國書, desc=中華民國軍政人物、中華民國陸軍中將、政治人物，立法院长, alias=老黄国书\n",
      "Q19058548, name=黃國書, desc=臺灣政治人物，1964年生, alias=小黄国书\n"
     ]
    }
   ],
   "source": [
    "data_folder = \"assets\"\n",
    "entitye_file = \"entities.csv\"\n",
    "input_file = \"input_text60.txt\"\n",
    "output_dir = Path.cwd().parent / \"my_output\"\n",
    "\n",
    "\n",
    "entities_loc = Path.cwd().parent / data_folder / entitye_file  # distributed alongside this notebook\n",
    "name_dict, desc_dict, alias_dict = load_entities(entitye_file)\n",
    "for QID in name_dict.keys():\n",
    "    print(f\"{QID}, name={name_dict[QID]}, desc={desc_dict[QID]}, alias={alias_dict[QID]}\")"
   ]
  },
  {
   "cell_type": "markdown",
   "metadata": {},
   "source": [
    "There are two entries, recording 2 different people called 黃國書. Both are Taiwanese politicians. The former climbed the ladder to become the speaker of the Legislative Yuan. The latter was born later, and is also a legislator. The difference is the he has never become the speaker of the Yuan. I'll use this information to create the KB. The entity vector is a numerical vector with a fixed dimension, here defining to be 300 elements.\n",
    "\n",
    "To add each record to the knowledge base, the description from the wikidata are converted to the built-in word vectors of the `nlp` model. The `vector` attribute of a document is the average of its token vectors. We also need to provide a frequency, which is a raw count of how many times a certain entity appears in an annotated corpus. The corpus plays no role in this tutorial, so it has never been used and the frequency is set to an arbitrary value.\n",
    "\n",
    "* To specify aliases (or synonyms), I use the adjective, senior and junior to denote the two people, resolving to their corresponding QID, because no ambiguity in this case (<span style=\"color:red\">IMPORTANT</span>). It is uncertain that what role the second alias plays. But they are added anyway. "
   ]
  },
  {
   "cell_type": "code",
   "execution_count": 26,
   "metadata": {},
   "outputs": [
    {
     "data": {
      "text/plain": [
       "15382059974437885320"
      ]
     },
     "execution_count": 26,
     "metadata": {},
     "output_type": "execute_result"
    }
   ],
   "source": [
    "from spacy.kb import InMemoryLookupKB\n",
    "\n",
    "\n",
    "kb = InMemoryLookupKB(vocab=nlp.vocab, entity_vector_length=300)\n",
    "for qid, desc in desc_dict.items():\n",
    "    text = chinese_converter.to_simplified(desc)\n",
    "    desc_doc = nlp(text)\n",
    "    desc_enc = desc_doc.vector\n",
    "    # 342 is an arbitrary value here\n",
    "    kb.add_entity(entity=qid, entity_vector=desc_enc, freq=342)   \n",
    "\n",
    "for qid, name in alias_dict.items():\n",
    "    kb.add_alias(alias=name, entities=[qid], probabilities=[1])    \n",
    "\n",
    "\n",
    "qids = name_dict.keys()  \n",
    "probs = [0.5 for qid in qids]\n",
    "kb.add_alias(alias=\"黄国书\", entities=qids, probabilities=probs)  "
   ]
  },
  {
   "cell_type": "markdown",
   "metadata": {},
   "source": [
    "* The following checks check the entities and aliases that are contained in it, and \n",
    "* then print the candidates that are generated for the distinct name of 老黄国书, as well as for the ambiguious mentioning, \"黄国书\" or for another random mentioning that is also a politician, with a different, distinguishable, but similar name, \"王成章\"."
   ]
  },
  {
   "cell_type": "code",
   "execution_count": 27,
   "metadata": {},
   "outputs": [
    {
     "name": "stdout",
     "output_type": "stream",
     "text": [
      "Entities in the KB: ['Q111361019', 'Q19058548']\n",
      "Aliases in the KB: ['黄国书', '老黄国书', '小黄国书']\n",
      "Candidates for '老黄国书': ['Q111361019']\n",
      "Candidates for '黄国书': ['Q111361019', 'Q19058548']\n",
      "Candidates for '王成章': []\n"
     ]
    }
   ],
   "source": [
    "print(f\"Entities in the KB: {kb.get_entity_strings()}\")\n",
    "print(f\"Aliases in the KB: {kb.get_alias_strings()}\")\n",
    "print(f\"Candidates for '老黄国书': {[c.entity_ for c in kb.get_alias_candidates('老黄国书')]}\")\n",
    "print(f\"Candidates for '黄国书': {[c.entity_ for c in kb.get_alias_candidates('黄国书')]}\")\n",
    "print(f\"Candidates for '王成章': {[c.entity_ for c in kb.get_alias_candidates('王成章')]}\")"
   ]
  },
  {
   "cell_type": "markdown",
   "metadata": {},
   "source": [
    "* When querying the KB with the alias \"黄国书\", it gives 2 candidates, but if querying it with an unknown term, it gives an empty list.\n",
    "* Next, we can save the knowledge base by calling the function `to_disk` with an output location.\n",
    "* We can store the `nlp` object to file by calling `to_disk` as well."
   ]
  },
  {
   "cell_type": "code",
   "execution_count": 28,
   "metadata": {},
   "outputs": [],
   "source": [
    "# change the directory and file names to whatever you like\n",
    "import os\n",
    "if not os.path.exists(output_dir):\n",
    "    os.mkdir(output_dir) \n",
    "kb.to_disk(output_dir / \"my_kb\")\n",
    "nlp.to_disk(output_dir / \"my_nlp\")"
   ]
  },
  {
   "cell_type": "markdown",
   "metadata": {},
   "source": [
    "# Creating a training dataset"
   ]
  },
  {
   "cell_type": "code",
   "execution_count": 29,
   "metadata": {},
   "outputs": [
    {
     "name": "stdout",
     "output_type": "stream",
     "text": [
      "0 : 因此無論在立法院擔任副院長及院長期間，外交工作均是黃國書先生的重要工作，在副院長期間的外交，可分為反共外交及接待外賓兩大主軸，以下詳論之\n",
      "1 : 以外交見長的黃國書先生在此「反共外交」中也扮演重要角色。\n",
      "民进党 0 3 ORG\n",
      "黄国书 5 8 PERSON\n",
      "今天 8 10 DATE\n",
      "曾迫于 18 21 GPE\n"
     ]
    }
   ],
   "source": [
    "import spacy\n",
    "from spacy import displacy\n",
    "\n",
    "\n",
    "input_data = Path.cwd().parent / data_folder / input_file\n",
    "\n",
    "X_train = []\n",
    "with open(input_data, 'r', encoding='utf-8') as dataset:\n",
    "    for i, line in enumerate(dataset):\n",
    "        line = line.strip('\\n')\n",
    "        X_train.append(line)\n",
    "        if i < 2:\n",
    "            print(i, \":\", line)\n",
    "\n",
    "for ent in doc.ents:\n",
    "    print(ent.text, ent.start_char, ent.end_char, ent.label_)"
   ]
  },
  {
   "cell_type": "code",
   "execution_count": 30,
   "metadata": {},
   "outputs": [
    {
     "data": {
      "text/html": [
       "<span class=\"tex2jax_ignore\"><div class=\"entities\" style=\"line-height: 2.5; direction: ltr\">因此无论在\n",
       "<mark class=\"entity\" style=\"background: #7aecec; padding: 0.45em 0.6em; margin: 0 0.25em; line-height: 1; border-radius: 0.35em;\">\n",
       "    立法院\n",
       "    <span style=\"font-size: 0.8em; font-weight: bold; line-height: 1; border-radius: 0.35em; vertical-align: middle; margin-left: 0.5rem\">ORG</span>\n",
       "</mark>\n",
       "担任副院长及院长期间，外交工作均是\n",
       "<mark class=\"entity\" style=\"background: #aa9cfc; padding: 0.45em 0.6em; margin: 0 0.25em; line-height: 1; border-radius: 0.35em;\">\n",
       "    黄国书\n",
       "    <span style=\"font-size: 0.8em; font-weight: bold; line-height: 1; border-radius: 0.35em; vertical-align: middle; margin-left: 0.5rem\">PERSON</span>\n",
       "</mark>\n",
       "先生的重要工作，在副院长期间的外交，可分为\n",
       "<mark class=\"entity\" style=\"background: #7aecec; padding: 0.45em 0.6em; margin: 0 0.25em; line-height: 1; border-radius: 0.35em;\">\n",
       "    反共\n",
       "    <span style=\"font-size: 0.8em; font-weight: bold; line-height: 1; border-radius: 0.35em; vertical-align: middle; margin-left: 0.5rem\">ORG</span>\n",
       "</mark>\n",
       "外交及接待外宾\n",
       "<mark class=\"entity\" style=\"background: #e4e7d2; padding: 0.45em 0.6em; margin: 0 0.25em; line-height: 1; border-radius: 0.35em;\">\n",
       "    两\n",
       "    <span style=\"font-size: 0.8em; font-weight: bold; line-height: 1; border-radius: 0.35em; vertical-align: middle; margin-left: 0.5rem\">CARDINAL</span>\n",
       "</mark>\n",
       "大主轴，以下详论之</div></span>"
      ],
      "text/plain": [
       "<IPython.core.display.HTML object>"
      ]
     },
     "metadata": {},
     "output_type": "display_data"
    },
    {
     "data": {
      "text/html": [
       "<span class=\"tex2jax_ignore\"><div class=\"entities\" style=\"line-height: 2.5; direction: ltr\">以外交见长的\n",
       "<mark class=\"entity\" style=\"background: #aa9cfc; padding: 0.45em 0.6em; margin: 0 0.25em; line-height: 1; border-radius: 0.35em;\">\n",
       "    黄国书\n",
       "    <span style=\"font-size: 0.8em; font-weight: bold; line-height: 1; border-radius: 0.35em; vertical-align: middle; margin-left: 0.5rem\">PERSON</span>\n",
       "</mark>\n",
       "先生在此「\n",
       "<mark class=\"entity\" style=\"background: #7aecec; padding: 0.45em 0.6em; margin: 0 0.25em; line-height: 1; border-radius: 0.35em;\">\n",
       "    反共\n",
       "    <span style=\"font-size: 0.8em; font-weight: bold; line-height: 1; border-radius: 0.35em; vertical-align: middle; margin-left: 0.5rem\">ORG</span>\n",
       "</mark>\n",
       "外交」中也扮演重要角色。</div></span>"
      ],
      "text/plain": [
       "<IPython.core.display.HTML object>"
      ]
     },
     "metadata": {},
     "output_type": "display_data"
    },
    {
     "data": {
      "text/html": [
       "<span class=\"tex2jax_ignore\"><div class=\"entities\" style=\"line-height: 2.5; direction: ltr\">由时任\n",
       "<mark class=\"entity\" style=\"background: #7aecec; padding: 0.45em 0.6em; margin: 0 0.25em; line-height: 1; border-radius: 0.35em;\">\n",
       "    立法院\n",
       "    <span style=\"font-size: 0.8em; font-weight: bold; line-height: 1; border-radius: 0.35em; vertical-align: middle; margin-left: 0.5rem\">ORG</span>\n",
       "</mark>\n",
       "副院长的\n",
       "<mark class=\"entity\" style=\"background: #aa9cfc; padding: 0.45em 0.6em; margin: 0 0.25em; line-height: 1; border-radius: 0.35em;\">\n",
       "    黄国书\n",
       "    <span style=\"font-size: 0.8em; font-weight: bold; line-height: 1; border-radius: 0.35em; vertical-align: middle; margin-left: 0.5rem\">PERSON</span>\n",
       "</mark>\n",
       "先生领军，以及\n",
       "<mark class=\"entity\" style=\"background: #7aecec; padding: 0.45em 0.6em; margin: 0 0.25em; line-height: 1; border-radius: 0.35em;\">\n",
       "    国立台湾大学\n",
       "    <span style=\"font-size: 0.8em; font-weight: bold; line-height: 1; border-radius: 0.35em; vertical-align: middle; margin-left: 0.5rem\">ORG</span>\n",
       "</mark>\n",
       "校长\n",
       "<mark class=\"entity\" style=\"background: #aa9cfc; padding: 0.45em 0.6em; margin: 0 0.25em; line-height: 1; border-radius: 0.35em;\">\n",
       "    钱思亮\n",
       "    <span style=\"font-size: 0.8em; font-weight: bold; line-height: 1; border-radius: 0.35em; vertical-align: middle; margin-left: 0.5rem\">PERSON</span>\n",
       "</mark>\n",
       "、\n",
       "<mark class=\"entity\" style=\"background: #feca74; padding: 0.45em 0.6em; margin: 0 0.25em; line-height: 1; border-radius: 0.35em;\">\n",
       "    大陆\n",
       "    <span style=\"font-size: 0.8em; font-weight: bold; line-height: 1; border-radius: 0.35em; vertical-align: middle; margin-left: 0.5rem\">GPE</span>\n",
       "</mark>\n",
       "灾胞救济总会秘书长\n",
       "<mark class=\"entity\" style=\"background: #aa9cfc; padding: 0.45em 0.6em; margin: 0 0.25em; line-height: 1; border-radius: 0.35em;\">\n",
       "    方治三\n",
       "    <span style=\"font-size: 0.8em; font-weight: bold; line-height: 1; border-radius: 0.35em; vertical-align: middle; margin-left: 0.5rem\">PERSON</span>\n",
       "</mark>\n",
       "人组成</div></span>"
      ],
      "text/plain": [
       "<IPython.core.display.HTML object>"
      ]
     },
     "metadata": {},
     "output_type": "display_data"
    }
   ],
   "source": [
    "nlp = spacy.load(\"zh_core_web_md\")\n",
    "\n",
    "for i, line in enumerate(X_train):\n",
    "    text = chinese_converter.to_simplified(line)\n",
    "    doc = nlp(text)\n",
    "    if i < 3:\n",
    "        displacy.render(doc, style='ent')"
   ]
  },
  {
   "cell_type": "code",
   "execution_count": 31,
   "metadata": {},
   "outputs": [
    {
     "data": {
      "text/plain": [
       "(60, 60, 60, 60)"
      ]
     },
     "execution_count": 31,
     "metadata": {},
     "output_type": "execute_result"
    }
   ],
   "source": [
    "nlp = spacy.load(\"zh_core_web_md\")\n",
    "X_train, starts, ends, labels, texts = [], [], [], [], []\n",
    "\n",
    "with open(input_data, 'r', encoding='utf-8') as dataset:\n",
    "    for i, line in enumerate(dataset):\n",
    "        line = line.strip('\\n')\n",
    "        text = chinese_converter.to_simplified(line)\n",
    "        X_train.append(text)\n",
    "\n",
    "        doc = nlp(text)\n",
    "        for ent in doc.ents:\n",
    "           if ent.text == '黄国书':\n",
    "               texts.append(ent.text)\n",
    "               starts.append(ent.start_char)\n",
    "               ends.append(ent.end_char)\n",
    "               labels.append(ent.label_)\n",
    "\n",
    "len(texts), len(starts), len(ends), len(labels)"
   ]
  },
  {
   "cell_type": "code",
   "execution_count": 32,
   "metadata": {},
   "outputs": [
    {
     "data": {
      "text/plain": [
       "[{'start': 25, 'end': 28, 'text': '黄国书', 'rank': 0, 'label': 'PERSON'},\n",
       " {'start': 6, 'end': 9, 'text': '黄国书', 'rank': 0, 'label': 'PERSON'},\n",
       " {'start': 10, 'end': 13, 'text': '黄国书', 'rank': 0, 'label': 'PERSON'}]"
      ]
     },
     "execution_count": 32,
     "metadata": {},
     "output_type": "execute_result"
    }
   ],
   "source": [
    "spans_keys = ['start', 'end', 'text', 'rank', 'label']\n",
    "rank = 0\n",
    "span_list = []\n",
    "\n",
    "\n",
    "for i in range(len(X_train)):\n",
    "    start = starts[i]\n",
    "    end = ends[i]\n",
    "    text = texts[i]\n",
    "    label = labels[i]\n",
    "    spans_values = [start, end, text, rank, label]\n",
    "    output = {}\n",
    "\n",
    "    for j in range(len(spans_values)):\n",
    "        output.update({spans_keys[j]: spans_values[j]})\n",
    "        \n",
    "    span_list.append(output)\n",
    "\n",
    "span_list[:3]"
   ]
  },
  {
   "cell_type": "code",
   "execution_count": 33,
   "metadata": {},
   "outputs": [],
   "source": [
    "keys = ['text', 'spans', 'accept', 'answer']\n",
    "jsonl_output = []\n",
    "\n",
    "for i, line in enumerate(X_train):\n",
    "    if i <30:\n",
    "        qid = 'Q111361019'\n",
    "    else :\n",
    "        qid = 'Q19058548'\n",
    "\n",
    "    text_ = chinese_converter.to_simplified(line)\n",
    "    values = [text_, span_list[i], qid, \"accept\"]\n",
    "\n",
    "    output = {}\n",
    "    for j in range(len(keys)):\n",
    "        output.update({keys[j]: values[j]})\n",
    " \n",
    "    jsonl_output.append(output)"
   ]
  },
  {
   "cell_type": "code",
   "execution_count": 34,
   "metadata": {},
   "outputs": [],
   "source": [
    "import json\n",
    "\n",
    "# Write each list item as a separate JSON object in the file\n",
    "with open(\"../assets/annotated_text60.jsonl\", \"w\") as jsonl_file:\n",
    "    for item in jsonl_output:\n",
    "        json.dump(item, jsonl_file, ensure_ascii=False)\n",
    "        jsonl_file.write(\"\\n\")  # Add a newline after each object"
   ]
  },
  {
   "cell_type": "markdown",
   "metadata": {},
   "source": [
    " * The json file stores the full text of the sentence, together with a lot of annotations. \n",
    " * The important bit is the element with the key `accept`. This is the `y` variable, or another commonly used name, the `label` . \n",
    " * For this specific sentence and this specific mentioning, the option with key `Q111361019` was manually selected. "
   ]
  },
  {
   "cell_type": "markdown",
   "metadata": {},
   "source": [
    "# Training the Entity Linker"
   ]
  },
  {
   "cell_type": "markdown",
   "metadata": {},
   "source": [
    "To feed training data into our Entity Linker, we format our data as a structured tuple. The first part is the raw text, and the second part is a dictionary of annotations. This dictionary defines the named entities we want to link (\"entities\"), as well as the actual gold-standard links (\"links\")."
   ]
  },
  {
   "cell_type": "code",
   "execution_count": 35,
   "metadata": {},
   "outputs": [],
   "source": [
    "dataset = []\n",
    "json_loc = Path.cwd().parent / data_folder / \"annotated_text60.jsonl\"\n",
    "\n",
    "with json_loc.open(\"r\", encoding=\"utf8\") as jsonfile:\n",
    "    for line in jsonfile:\n",
    "        example = json.loads(line)\n",
    "        text = example[\"text\"]\n",
    "        if example[\"answer\"] == \"accept\":\n",
    "            QID = example[\"accept\"]\n",
    "            \n",
    "            offset = (example[\"spans\"][\"start\"], example[\"spans\"][\"end\"])\n",
    "            entity_label = example[\"spans\"][\"label\"]\n",
    "            entities = [(offset[0], offset[1], entity_label)]\n",
    "            links_dict = {QID: 1.0}   # The QID is always paired with \"1\" (ie True), meaning the QID is a correct one (ie manually selected).\n",
    "        dataset.append((text, {\"links\": {offset: links_dict}, \"entities\": entities}))"
   ]
  },
  {
   "cell_type": "markdown",
   "metadata": {},
   "source": [
    "To check whether the conversion looks OK, we can just print the first sample in our dataset. "
   ]
  },
  {
   "cell_type": "code",
   "execution_count": 36,
   "metadata": {},
   "outputs": [
    {
     "data": {
      "text/plain": [
       "('因此无论在立法院担任副院长及院长期间，外交工作均是黄国书先生的重要工作，在副院长期间的外交，可分为反共外交及接待外宾两大主轴，以下详论之',\n",
       " {'links': {(25, 28): {'Q111361019': 1.0}}, 'entities': [(25, 28, 'PERSON')]})"
      ]
     },
     "execution_count": 36,
     "metadata": {},
     "output_type": "execute_result"
    }
   ],
   "source": [
    "# dataset is a 2-element tuple, with its second element a dictionary, which carries  more elements.\n",
    "dataset[0]"
   ]
  },
  {
   "cell_type": "code",
   "execution_count": 37,
   "metadata": {},
   "outputs": [
    {
     "name": "stdout",
     "output_type": "stream",
     "text": [
      "Counter({'Q111361019': 30, 'Q19058548': 30})\n"
     ]
    }
   ],
   "source": [
    "from collections import Counter\n",
    "\n",
    "y = []\n",
    "for text, annot in dataset:\n",
    "    for span, links_dict in annot[\"links\"].items():\n",
    "        for link, value in links_dict.items():\n",
    "            if value:\n",
    "                y.append(link)\n",
    "\n",
    "print(Counter(y))"
   ]
  },
  {
   "cell_type": "markdown",
   "metadata": {},
   "source": [
    "We got exactly 10 annotated sentences for each of our Emersons. Of these, we'll now set aside 6 cases in a separate test set."
   ]
  },
  {
   "cell_type": "code",
   "execution_count": 38,
   "metadata": {},
   "outputs": [],
   "source": [
    "train_dataset = []\n",
    "test_dataset = []\n",
    "for k, QID in enumerate(qids):\n",
    "    indices = [i for i, j in enumerate(y) if j == QID]\n",
    "    # From Counter, we know that Counter({'Q111361019': 30, 'Q19058548': 30})\n",
    "    # Thus, at each iteration, the indices variable becomes a 30-element index, \n",
    "    # all pointing to a unique candidate.\n",
    "    #\n",
    "    # Then, the following manually assigns first 26 sentences to the train_dataset, \n",
    "    # and the last 2 were assigned to the test_dataset.\n",
    "    train_dataset.extend(dataset[index] for index in indices[0:26])  \n",
    "    test_dataset.extend(dataset[index] for index in indices[26:60])  \n"
   ]
  },
  {
   "cell_type": "code",
   "execution_count": 39,
   "metadata": {},
   "outputs": [
    {
     "data": {
      "text/plain": [
       "(52, 8)"
      ]
     },
     "execution_count": 39,
     "metadata": {},
     "output_type": "execute_result"
    }
   ],
   "source": [
    "import random\n",
    "\n",
    "random.shuffle(train_dataset)\n",
    "random.shuffle(test_dataset)\n",
    "len(train_dataset), len(test_dataset)"
   ]
  },
  {
   "cell_type": "markdown",
   "metadata": {},
   "source": [
    "## Example Class\n",
    "\n",
    "With our datasets now properly set up, we'll now create an `Example` object to feed into the training process. This object is new in spaCy v3. Essentially, it contains a document with predictions (`predicted`) and one with gold-standard annotations (`reference`). \n",
    "\n",
    "For entity linking, the algorithm needs access to gold-standard sentences, because the algorithms use the context from the sentence to perform the disambiguation. You can either provide gold-standard `sent_starts` annotations, or run a component such as the `parser` or `sentencizer` on your reference documents."
   ]
  },
  {
   "cell_type": "code",
   "execution_count": 40,
   "metadata": {},
   "outputs": [],
   "source": [
    "from spacy.training import Example\n",
    "\n",
    "TRAIN_EXAMPLES = []\n",
    "if \"sentencizer\" not in nlp.pipe_names:\n",
    "    nlp.add_pipe(\"sentencizer\")\n",
    "sentencizer = nlp.get_pipe(\"sentencizer\")\n",
    "\n",
    "for text, annotation in train_dataset:\n",
    "    example = Example.from_dict(nlp.make_doc(text), annotation)\n",
    "    example.reference = sentencizer(example.reference)\n",
    "    TRAIN_EXAMPLES.append(example) "
   ]
  },
  {
   "cell_type": "markdown",
   "metadata": {},
   "source": [
    "Then, we'll create a new Entity Linking component and add it to the pipeline. \n",
    "\n",
    "We also need to make sure the `entity_linker` component is properly initialized. To do this, we need a `get_examples` function that returns some example training data, as well as a `kb_loader` argument. This is a `Callable` function that creates the `KnowledgeBase`, given a certain `Vocab` instance. Here, we will load our KB from disk, using the built-in [`spacy.KBFromFile.v1`](https://spacy.io/api/architectures#KBFromFile) function, which is defined in `spacy.ml.models`. "
   ]
  },
  {
   "cell_type": "code",
   "execution_count": 41,
   "metadata": {},
   "outputs": [],
   "source": [
    "from spacy.ml.models import load_kb\n",
    "\n",
    "entity_linker = nlp.add_pipe(\"entity_linker\", config={\"incl_prior\": False}, last=True)\n",
    "entity_linker.initialize(get_examples=lambda: TRAIN_EXAMPLES, kb_loader=load_kb(output_dir / \"my_kb\"))"
   ]
  },
  {
   "cell_type": "markdown",
   "metadata": {},
   "source": [
    "Next, we will run the actual training loop for the new component, taking care to only train the entity linker and not the other components. "
   ]
  },
  {
   "cell_type": "code",
   "execution_count": 54,
   "metadata": {},
   "outputs": [
    {
     "name": "stdout",
     "output_type": "stream",
     "text": [
      "0 Losses {'entity_linker': 0.3940976560115814}\n",
      "50 Losses {'entity_linker': 0.2215153376261393}\n",
      "99 Losses {'entity_linker': 0.3127005994319916}\n"
     ]
    }
   ],
   "source": [
    "from spacy.util import minibatch, compounding\n",
    "\n",
    "with nlp.select_pipes(enable=[\"entity_linker\"]):   # train only the entity_linker\n",
    "    optimizer = nlp.resume_training()\n",
    "    \n",
    "    for itn in range(100):   # 500 iterations takes about a minute to train\n",
    "        random.shuffle(TRAIN_EXAMPLES)\n",
    "        batches = minibatch(TRAIN_EXAMPLES, size=compounding(4.0, 32.0, 1.001))  # increasing batch sizes\n",
    "        losses = {}\n",
    "        for batch in batches:\n",
    "            nlp.update(\n",
    "                batch,   \n",
    "                drop=0.2,      # prevent overfitting\n",
    "                losses=losses,\n",
    "                sgd=optimizer,\n",
    "            )\n",
    "        if itn % 50 == 0:\n",
    "            print(itn, \"Losses\", losses)   # print the training loss\n",
    "\n",
    "print(itn, \"Losses\", losses)\n"
   ]
  },
  {
   "cell_type": "markdown",
   "metadata": {},
   "source": [
    "# Testing the Entity Linker"
   ]
  },
  {
   "cell_type": "markdown",
   "metadata": {},
   "source": [
    "Let's first apply it on our original sentence. For each entity, we print the text and label as before, but also the disambiguated QID as predicted by our entity linker."
   ]
  },
  {
   "cell_type": "code",
   "execution_count": 52,
   "metadata": {},
   "outputs": [
    {
     "name": "stdout",
     "output_type": "stream",
     "text": [
      "黄国书 PERSON Q111361019\n",
      "两 CARDINAL NIL\n",
      "台湾 GPE NIL\n"
     ]
    }
   ],
   "source": [
    "text = chinese_converter.to_simplified(\"黃國書也認為，基於兩個理由，臺灣的民主越來越進步\")\n",
    "doc = nlp(text)\n",
    "for ent in doc.ents:\n",
    "    # ent.kb_id_\n",
    "    print(ent.text, ent.label_, ent.kb_id_)"
   ]
  },
  {
   "cell_type": "markdown",
   "metadata": {},
   "source": [
    "We see that 黄国书 gets disambiguated to `Q111361019`, which is a correct ID. This may turn out incorrect, when the size of the dataset is limited. This sentence is particular difficult to tell apart because both candidates are legislators and this syntax of this sentence is commonly used both now and then. "
   ]
  },
  {
   "cell_type": "markdown",
   "metadata": {},
   "source": [
    "Let's see what the model predicts for the 6 sentences in our test dataset, that were never seen during training."
   ]
  },
  {
   "cell_type": "code",
   "execution_count": null,
   "metadata": {},
   "outputs": [],
   "source": [
    "true_y, predicted_y = [], []\n",
    "accuracy_hist_test = [0] * len(test_dataset)\n",
    "\n",
    "for i, (text, true_annot) in enumerate(test_dataset):\n",
    "    doc = nlp(text) \n",
    "    for ent in doc.ents:\n",
    "        if ent.text == \"黄国书\":\n",
    "            py = ent.kb_id_\n",
    "            predicted_y.append(ent.kb_id_)\n",
    "\n",
    "    for span, links_dict in true_annot[\"links\"].items():\n",
    "       for link, value in links_dict.items():\n",
    "           ty = link\n",
    "           true_y.append(link)\n",
    "\n",
    "    is_correct = float(py==ty)\n",
    "    accuracy_hist_test[i] = is_correct\n",
    "\n",
    "sum(accuracy_hist_test) / len(test_dataset)\n",
    "# 0.875"
   ]
  }
 ],
 "metadata": {
  "kernelspec": {
   "display_name": "Python 3",
   "language": "python",
   "name": "python3"
  },
  "language_info": {
   "codemirror_mode": {
    "name": "ipython",
    "version": 3
   },
   "file_extension": ".py",
   "mimetype": "text/x-python",
   "name": "python",
   "nbconvert_exporter": "python",
   "pygments_lexer": "ipython3",
   "version": "3.10.12"
  },
  "pycharm": {
   "stem_cell": {
    "cell_type": "raw",
    "metadata": {
     "collapsed": false
    },
    "source": []
   }
  }
 },
 "nbformat": 4,
 "nbformat_minor": 1
}
